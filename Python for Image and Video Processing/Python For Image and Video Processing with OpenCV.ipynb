{
 "cells": [
  {
   "cell_type": "markdown",
   "metadata": {},
   "source": [
    "Loading, Displaying, Resizing, and Writing Images with Python"
   ]
  },
  {
   "cell_type": "code",
   "execution_count": 3,
   "metadata": {
    "scrolled": true
   },
   "outputs": [
    {
     "name": "stdout",
     "output_type": "stream",
     "text": [
      "<class 'numpy.ndarray'>\n",
      "[[[19 15 10]\n",
      "  [23 19 14]\n",
      "  [21 15 10]\n",
      "  ...\n",
      "  [27 22 13]\n",
      "  [20 18  8]\n",
      "  [21 19  9]]\n",
      "\n",
      " [[17 13  8]\n",
      "  [21 18 10]\n",
      "  [19 13  6]\n",
      "  ...\n",
      "  [27 22 13]\n",
      "  [22 17  8]\n",
      "  [24 19 10]]\n",
      "\n",
      " [[17 14  6]\n",
      "  [18 15  7]\n",
      "  [21 18 10]\n",
      "  ...\n",
      "  [23 16  7]\n",
      "  [33 26 17]\n",
      "  [30 23 14]]\n",
      "\n",
      " ...\n",
      "\n",
      " [[ 0  0  0]\n",
      "  [ 0  0  0]\n",
      "  [ 0  0  0]\n",
      "  ...\n",
      "  [ 5  5  5]\n",
      "  [ 8  8  8]\n",
      "  [14 14 14]]\n",
      "\n",
      " [[ 0  0  0]\n",
      "  [ 0  0  0]\n",
      "  [ 0  0  0]\n",
      "  ...\n",
      "  [ 2  2  2]\n",
      "  [ 3  3  3]\n",
      "  [ 9  9  9]]\n",
      "\n",
      " [[ 1  1  1]\n",
      "  [ 1  1  1]\n",
      "  [ 1  1  1]\n",
      "  ...\n",
      "  [ 1  1  1]\n",
      "  [ 1  1  1]\n",
      "  [ 3  3  3]]]\n",
      "(1485, 990, 3)\n",
      "3\n"
     ]
    }
   ],
   "source": [
    "import cv2\n",
    "img=cv2.imread('galaxy.jpg',1)#colour 1, b/w 0, -1 transparency capabilities\n",
    "\n",
    "print(type(img))#datetype\n",
    "print(img)#array\n",
    "print(img.shape)#shape\n",
    "print(img.ndim)#dimensions\n",
    "#resize image\n",
    "resized_image=cv2.resize(img,(int(img.shape[1]/2),int(img.shape[0]/2)))#resize\n",
    "cv2.imshow(\"Galaxy\",resized_image) #show window\n",
    "cv2.imwrite('Galaxy_resized.jpg',resized_image)\n",
    "cv2.waitKey(2000)#t ime to close window in miliseconds\n",
    "cv2.destroyAllWindows()#closes windows\n"
   ]
  },
  {
   "cell_type": "markdown",
   "metadata": {},
   "source": [
    "Exercise: Batch Image Resizing"
   ]
  },
  {
   "cell_type": "code",
   "execution_count": 4,
   "metadata": {},
   "outputs": [],
   "source": [
    "import glob\n",
    "\n",
    "images=glob.glob(\"*.jpg\")\n",
    "\n",
    "for image in images:\n",
    "    img=cv2.imread(image,0)\n",
    "    re=cv2.resize(img,(100,100))\n",
    "    cv2.imshow(\"Batch Image Resizing\",re)\n",
    "    cv2.waitKey(500)\n",
    "    cv2.destroyAllWindows()\n",
    "    cv2.imwrite(\"resized_\"+image,re)"
   ]
  },
  {
   "cell_type": "markdown",
   "metadata": {},
   "source": [
    "Face Detection"
   ]
  },
  {
   "cell_type": "code",
   "execution_count": 15,
   "metadata": {
    "collapsed": true
   },
   "outputs": [
    {
     "ename": "error",
     "evalue": "/Users/travis/build/skvark/opencv-python/opencv/modules/imgproc/src/color.cpp:11111: error: (-215) scn == 3 || scn == 4 in function cvtColor\n",
     "output_type": "error",
     "traceback": [
      "\u001b[0;31m---------------------------------------------------------------------------\u001b[0m",
      "\u001b[0;31merror\u001b[0m                                     Traceback (most recent call last)",
      "\u001b[0;32m<ipython-input-15-5b7f4cca6a37>\u001b[0m in \u001b[0;36m<module>\u001b[0;34m()\u001b[0m\n\u001b[1;32m      1\u001b[0m \u001b[0mface_cascade\u001b[0m\u001b[0;34m=\u001b[0m\u001b[0mcv2\u001b[0m\u001b[0;34m.\u001b[0m\u001b[0mCascadeClassifier\u001b[0m\u001b[0;34m(\u001b[0m\u001b[0;34m'./haarcascade_frontalface_default.xml'\u001b[0m\u001b[0;34m)\u001b[0m\u001b[0;34m\u001b[0m\u001b[0m\n\u001b[1;32m      2\u001b[0m \u001b[0mimg2\u001b[0m\u001b[0;34m=\u001b[0m\u001b[0mcv2\u001b[0m\u001b[0;34m.\u001b[0m\u001b[0mimread\u001b[0m\u001b[0;34m(\u001b[0m\u001b[0;34m'photo.jpg'\u001b[0m\u001b[0;34m)\u001b[0m\u001b[0;34m\u001b[0m\u001b[0m\n\u001b[0;32m----> 3\u001b[0;31m \u001b[0mgray_img\u001b[0m\u001b[0;34m=\u001b[0m\u001b[0mcv2\u001b[0m\u001b[0;34m.\u001b[0m\u001b[0mcvtColor\u001b[0m\u001b[0;34m(\u001b[0m\u001b[0mimg2\u001b[0m\u001b[0;34m,\u001b[0m\u001b[0mcv2\u001b[0m\u001b[0;34m.\u001b[0m\u001b[0mCOLOR_BGR2GRAY\u001b[0m\u001b[0;34m)\u001b[0m\u001b[0;34m\u001b[0m\u001b[0m\n\u001b[0m\u001b[1;32m      4\u001b[0m \u001b[0;34m\u001b[0m\u001b[0m\n\u001b[1;32m      5\u001b[0m \u001b[0;31m#Search for face and will return coordiantes of face. comes out as numpy array\u001b[0m\u001b[0;34m\u001b[0m\u001b[0;34m\u001b[0m\u001b[0m\n",
      "\u001b[0;31merror\u001b[0m: /Users/travis/build/skvark/opencv-python/opencv/modules/imgproc/src/color.cpp:11111: error: (-215) scn == 3 || scn == 4 in function cvtColor\n"
     ]
    }
   ],
   "source": [
    "face_cascade=cv2.CascadeClassifier('./haarcascade_frontalface_default.xml')\n",
    "img2=cv2.imread('news.jpg')\n",
    "gray_img=cv2.cvtColor(img2,cv2.COLOR_BGR2GRAY)\n",
    "\n",
    "#Search for face and will return coordiantes of face. comes out as numpy array\n",
    "faces=face_cascade.detectMultiScale(gray_img,\n",
    "                                   scaleFactor=1.1,\n",
    "                                   minNeighbors=5)\n",
    "for x, y, w, h in face:\n",
    "    img2=rectangle(img, (x,y),(x+w,y+h),(0,255,0),3)#top left corner then bottom right corner\n",
    "\n",
    "resized=cv2.resize(img,(int(img.shape[1]/2),int(img.shape[0]/2)))\n",
    "cv2.imshow('Gray',img2)\n",
    "cv2.waitKey(2000)\n",
    "cv2.destroyAllWindows()\n"
   ]
  },
  {
   "cell_type": "markdown",
   "metadata": {},
   "source": [
    "Capturing Video from Webcam"
   ]
  },
  {
   "cell_type": "code",
   "execution_count": 21,
   "metadata": {},
   "outputs": [],
   "source": [
    "import time #let video run longer\n",
    "video=cv2.VideoCapture(0)\n",
    "a=0\n",
    "while True:\n",
    "    a=a+1\n",
    "    check, frame =video.read()\n",
    "    gray=cv2.cvtColor(frame,cv2.COLOR_BGR2GRAY)\n",
    "\n",
    "\n",
    "    #time.sleep(5)\n",
    "    cv2.imshow('Capturing',gray)\n",
    "    key=cv2.waitKey(2000)\n",
    "    if key==ord('q'):\n",
    "        break\n",
    "print(a)\n",
    "video.release()\n",
    "cv2.destroyAllWindows()"
   ]
  },
  {
   "cell_type": "code",
   "execution_count": null,
   "metadata": {},
   "outputs": [],
   "source": []
  }
 ],
 "metadata": {
  "kernelspec": {
   "display_name": "Python 3",
   "language": "python",
   "name": "python3"
  },
  "language_info": {
   "codemirror_mode": {
    "name": "ipython",
    "version": 3
   },
   "file_extension": ".py",
   "mimetype": "text/x-python",
   "name": "python",
   "nbconvert_exporter": "python",
   "pygments_lexer": "ipython3",
   "version": "3.6.4"
  }
 },
 "nbformat": 4,
 "nbformat_minor": 2
}
