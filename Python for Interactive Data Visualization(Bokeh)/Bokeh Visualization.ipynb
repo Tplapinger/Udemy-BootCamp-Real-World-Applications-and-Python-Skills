{
 "cells": [
  {
   "cell_type": "code",
   "execution_count": 74,
   "metadata": {},
   "outputs": [],
   "source": [
    "from bokeh.plotting import figure\n",
    "from bokeh.io import output_file, show\n",
    "from bokeh.models import HoverTool, ColumnDataSource\n",
    "import pandas as pd\n",
    "import cv2, time\n",
    "from datetime import datetime"
   ]
  },
  {
   "cell_type": "markdown",
   "metadata": {},
   "source": [
    "Creating A Bokeh Plot"
   ]
  },
  {
   "cell_type": "code",
   "execution_count": 6,
   "metadata": {},
   "outputs": [],
   "source": [
    "#preparing data(lists have to have same length)\n",
    "x=[1,2,3,4,5]\n",
    "y=[6,7,8,9,10]\n",
    "\n",
    "#prepare out file\n",
    "output_file(\"Line.html\")\n",
    "\n",
    "#create figure object\n",
    "f=figure()\n",
    "\n",
    "#Create line Plot\n",
    "f.line(x,y)\n",
    "#show- pens in seperate window\n",
    "show(f)\n"
   ]
  },
  {
   "cell_type": "markdown",
   "metadata": {},
   "source": [
    "Exercise: Plotting Triangles and Circle Glyphs"
   ]
  },
  {
   "cell_type": "code",
   "execution_count": 11,
   "metadata": {},
   "outputs": [],
   "source": [
    "#preparing data(lists have to have same length)\n",
    "x=[2,4,6,8,10,12,14,16,18,20]\n",
    "y=[1,3,5,7,9,11,13,15,17,19]\n",
    "\n",
    "#prepare out file\n",
    "output_file(\"circle.html\")\n",
    "\n",
    "#create figure object\n",
    "f=figure()\n",
    "\n",
    "#Create line Plot\n",
    "f.circle(x,y)\n",
    "#show- pens in seperate window\n",
    "show(f)\n",
    "\n"
   ]
  },
  {
   "cell_type": "code",
   "execution_count": 10,
   "metadata": {},
   "outputs": [],
   "source": [
    "#preparing data(lists have to have same length)\n",
    "x=[1,1,2,3,5,8,13]\n",
    "y=[21,34,55,89,144,233,377]\n",
    "\n",
    "#prepare out file\n",
    "output_file(\"triangle.html\")\n",
    "\n",
    "#create figure object\n",
    "f=figure()\n",
    "\n",
    "#Create line Plot\n",
    "f.triangle(x,y)\n",
    "#show- pens in seperate window\n",
    "show(f)\n",
    "\n"
   ]
  },
  {
   "cell_type": "markdown",
   "metadata": {},
   "source": [
    "Using Bokeh with Pandas"
   ]
  },
  {
   "cell_type": "code",
   "execution_count": 14,
   "metadata": {},
   "outputs": [],
   "source": [
    "#preparing data(lists have to have same length)\n",
    "df=pd.read_csv('data.csv')\n",
    "x=df.x\n",
    "y=df.y\n",
    "\n",
    "#prepare out file\n",
    "output_file(\"fromcsv.html\")\n",
    "\n",
    "#create figure object\n",
    "f=figure()\n",
    "\n",
    "#Create line Plot\n",
    "f.line(x,y)\n",
    "#show- pens in seperate window\n",
    "show(f)\n"
   ]
  },
  {
   "cell_type": "markdown",
   "metadata": {},
   "source": [
    "Plotting Education Data"
   ]
  },
  {
   "cell_type": "code",
   "execution_count": 17,
   "metadata": {},
   "outputs": [],
   "source": [
    "#preparing data(lists have to have same length)\n",
    "bachelors=pd.read_csv('bachelors.csv')\n",
    "x=bachelors.Year\n",
    "y=bachelors.Engineering\n",
    "\n",
    "#prepare out file\n",
    "output_file(\"FemBachelors.html\")\n",
    "\n",
    "#create figure object\n",
    "f=figure()\n",
    "\n",
    "#Create line Plot\n",
    "f.line(x,y)\n",
    "#show- pens in seperate window\n",
    "show(f)\n",
    "\n"
   ]
  },
  {
   "cell_type": "markdown",
   "metadata": {},
   "source": [
    "Changing and Adding Plot Properties"
   ]
  },
  {
   "cell_type": "code",
   "execution_count": 18,
   "metadata": {},
   "outputs": [],
   "source": [
    "p=figure(plot_width=500,plot_height=400, tools='pan',logo=None)\n",
    " \n",
    "p.title.text=\"Cool Data\"\n",
    "p.title.text_color=\"Gray\"\n",
    "p.title.text_font=\"times\"\n",
    "p.title.text_font_style=\"bold\"\n",
    "p.xaxis.minor_tick_line_color=None\n",
    "p.yaxis.minor_tick_line_color=None\n",
    "p.xaxis.axis_label=\"Date\"\n",
    "p.yaxis.axis_label=\"Intensity\"    \n",
    " \n",
    "p.line([1,2,3],[4,5,6])\n",
    "output_file(\"graph.html\")\n",
    "show(p)"
   ]
  },
  {
   "cell_type": "markdown",
   "metadata": {},
   "source": [
    "Plotting Weather Data"
   ]
  },
  {
   "cell_type": "code",
   "execution_count": 24,
   "metadata": {},
   "outputs": [],
   "source": [
    "weather=pd.read_excel('verlegenhuken.xlsx')\n",
    "p=figure(plot_width=500,plot_height=400, tools='pan',logo=None)\n",
    " \n",
    "p.title.text=\"Temperature and Air Pressure\"\n",
    "p.title.text_color=\"Orange\"\n",
    "p.title.text_font=\"times new roman\"\n",
    "p.title.text_font_style=\"bold\"\n",
    "p.xaxis.minor_tick_line_color=None\n",
    "p.yaxis.minor_tick_line_color=None\n",
    "p.xaxis.axis_label=\"Temperature (C)\"\n",
    "p.yaxis.axis_label=\"Pressure(hPa)\"    \n",
    " \n",
    "p.scatter(weather['Temperature']/10,weather['Pressure']/10,size=0.5)\n",
    "output_file(\"Weather.html\")\n",
    "show(p)"
   ]
  },
  {
   "cell_type": "markdown",
   "metadata": {},
   "source": [
    "Stlying Visual Attributes"
   ]
  },
  {
   "cell_type": "code",
   "execution_count": 31,
   "metadata": {},
   "outputs": [],
   "source": [
    "s = figure(plot_width=500, plot_height=400, tools = 'pan, reset', logo=None)\n",
    "s.title.text = \"Earthquakes\"\n",
    "s.title.text_color = \"Orange\"\n",
    "s.title.text_font = \"times\"\n",
    "s.title.text_font_style = \"italic\"\n",
    "s.yaxis.minor_tick_line_color = \"Yellow\"\n",
    "s.xaxis.axis_label = \"Times\"\n",
    "s.yaxis.axis_label = \"Value\"\n",
    "\n",
    "s.circle([1,2,3,4,5], [5,6,5,5,3], size = [i*2 for i in [8,12,14,15,20]], color=\"red\", alpha=0.5)\n",
    "output_file(\"Scatter_plotting.html\")\n",
    "show(s)"
   ]
  },
  {
   "cell_type": "code",
   "execution_count": 32,
   "metadata": {},
   "outputs": [],
   "source": [
    "t = figure(plot_width=500, plot_height=400, tools = 'pan, reset', logo=None)\n",
    "t.title.text = \"Earthquakes\"\n",
    "t.title.text_color = \"Orange\"\n",
    "t.title.text_font = \"times\"\n",
    "t.title.text_font_style = \"italic\"\n",
    "t.yaxis.minor_tick_line_color = \"Yellow\"\n",
    "t.xaxis.axis_label = \"Times\"\n",
    "t.yaxis.axis_label = \"Value\"\n",
    "t.line([1,2,3,4,5], [5,6,5,5,3], line_width=2, color=\"red\", alpha=0.5)\n",
    "output_file(\"Earthquakeline.html\")\n",
    "show(t)"
   ]
  },
  {
   "cell_type": "markdown",
   "metadata": {},
   "source": [
    "Complete list of Stlying Visual Attributes\n",
    "https://bokeh.pydata.org/en/latest/docs/user_guide/styling.html"
   ]
  },
  {
   "cell_type": "markdown",
   "metadata": {},
   "source": [
    "Time-series Plots"
   ]
  },
  {
   "cell_type": "code",
   "execution_count": 51,
   "metadata": {
    "scrolled": true
   },
   "outputs": [],
   "source": [
    "data = pd.read_csv('https://www.alphavantage.co/query?function=TIME_SERIES_DAILY_ADJUSTED&symbol=MZOR&outputsize=full&apikey=YOURAPIKEY&datatype=csv', parse_dates=['timestamp'])\n",
    "ts=figure(width=1000,height=500,x_axis_type='datetime')#responsive fits to page\n",
    "ts.line(data['timestamp'],data['close'],color='Orange',alpha=0.5)\n",
    "output_file('Timeseries.html')\n",
    "show(ts)"
   ]
  },
  {
   "cell_type": "code",
   "execution_count": 50,
   "metadata": {},
   "outputs": [
    {
     "data": {
      "text/html": [
       "<div>\n",
       "<style scoped>\n",
       "    .dataframe tbody tr th:only-of-type {\n",
       "        vertical-align: middle;\n",
       "    }\n",
       "\n",
       "    .dataframe tbody tr th {\n",
       "        vertical-align: top;\n",
       "    }\n",
       "\n",
       "    .dataframe thead th {\n",
       "        text-align: right;\n",
       "    }\n",
       "</style>\n",
       "<table border=\"1\" class=\"dataframe\">\n",
       "  <thead>\n",
       "    <tr style=\"text-align: right;\">\n",
       "      <th></th>\n",
       "      <th>timestamp</th>\n",
       "      <th>open</th>\n",
       "      <th>high</th>\n",
       "      <th>low</th>\n",
       "      <th>close</th>\n",
       "      <th>adjusted_close</th>\n",
       "      <th>volume</th>\n",
       "      <th>dividend_amount</th>\n",
       "      <th>split_coefficient</th>\n",
       "    </tr>\n",
       "  </thead>\n",
       "  <tbody>\n",
       "    <tr>\n",
       "      <th>0</th>\n",
       "      <td>2018-05-22</td>\n",
       "      <td>58.56</td>\n",
       "      <td>59.1447</td>\n",
       "      <td>55.5500</td>\n",
       "      <td>57.14</td>\n",
       "      <td>57.14</td>\n",
       "      <td>243290</td>\n",
       "      <td>0.0</td>\n",
       "      <td>1.0</td>\n",
       "    </tr>\n",
       "    <tr>\n",
       "      <th>1</th>\n",
       "      <td>2018-05-21</td>\n",
       "      <td>58.92</td>\n",
       "      <td>60.0100</td>\n",
       "      <td>57.0500</td>\n",
       "      <td>57.98</td>\n",
       "      <td>57.98</td>\n",
       "      <td>427564</td>\n",
       "      <td>0.0</td>\n",
       "      <td>1.0</td>\n",
       "    </tr>\n",
       "    <tr>\n",
       "      <th>2</th>\n",
       "      <td>2018-05-18</td>\n",
       "      <td>59.55</td>\n",
       "      <td>60.9690</td>\n",
       "      <td>59.0000</td>\n",
       "      <td>59.11</td>\n",
       "      <td>59.11</td>\n",
       "      <td>338375</td>\n",
       "      <td>0.0</td>\n",
       "      <td>1.0</td>\n",
       "    </tr>\n",
       "    <tr>\n",
       "      <th>3</th>\n",
       "      <td>2018-05-17</td>\n",
       "      <td>59.46</td>\n",
       "      <td>60.3300</td>\n",
       "      <td>58.7361</td>\n",
       "      <td>59.70</td>\n",
       "      <td>59.70</td>\n",
       "      <td>385635</td>\n",
       "      <td>0.0</td>\n",
       "      <td>1.0</td>\n",
       "    </tr>\n",
       "    <tr>\n",
       "      <th>4</th>\n",
       "      <td>2018-05-16</td>\n",
       "      <td>59.40</td>\n",
       "      <td>63.0500</td>\n",
       "      <td>59.0850</td>\n",
       "      <td>59.78</td>\n",
       "      <td>59.78</td>\n",
       "      <td>747163</td>\n",
       "      <td>0.0</td>\n",
       "      <td>1.0</td>\n",
       "    </tr>\n",
       "  </tbody>\n",
       "</table>\n",
       "</div>"
      ],
      "text/plain": [
       "   timestamp   open     high      low  close  adjusted_close  volume  \\\n",
       "0 2018-05-22  58.56  59.1447  55.5500  57.14           57.14  243290   \n",
       "1 2018-05-21  58.92  60.0100  57.0500  57.98           57.98  427564   \n",
       "2 2018-05-18  59.55  60.9690  59.0000  59.11           59.11  338375   \n",
       "3 2018-05-17  59.46  60.3300  58.7361  59.70           59.70  385635   \n",
       "4 2018-05-16  59.40  63.0500  59.0850  59.78           59.78  747163   \n",
       "\n",
       "   dividend_amount  split_coefficient  \n",
       "0              0.0                1.0  \n",
       "1              0.0                1.0  \n",
       "2              0.0                1.0  \n",
       "3              0.0                1.0  \n",
       "4              0.0                1.0  "
      ]
     },
     "execution_count": 50,
     "metadata": {},
     "output_type": "execute_result"
    }
   ],
   "source": [
    "data.head()"
   ]
  },
  {
   "cell_type": "markdown",
   "metadata": {},
   "source": [
    "More Visualizatin Examples with Bokeh"
   ]
  },
  {
   "cell_type": "code",
   "execution_count": 54,
   "metadata": {},
   "outputs": [],
   "source": [
    "m = figure(plot_width=500, plot_height=400, tools = 'pan, reset', logo=None)\n",
    "m.title.text = \"Earthquakes\"\n",
    "m.title.text_color = \"Orange\"\n",
    "m.title.text_font = \"times\"\n",
    "m.title.text_font_style = \"italic\"\n",
    "m.yaxis.minor_tick_line_color = \"Yellow\"\n",
    "m.xaxis.axis_label = \"Times\"\n",
    "m.yaxis.axis_label = \"Value\"\n",
    "m.line([1,2,3,4,5], [5,6,5,5,3], line_width=2, color=\"red\", alpha=0.5)\n",
    "m.circle([1,2,3,4,5], [5,6,5,5,3], size = [i*2 for i in [8,12,14,15,20]], color=\"red\", alpha=0.5)\n",
    "output_file(\"Scatter_plotting.html\")\n",
    "show(m)"
   ]
  },
  {
   "cell_type": "markdown",
   "metadata": {},
   "source": [
    "Plotting Time intervals with the Motion Detector"
   ]
  },
  {
   "cell_type": "code",
   "execution_count": 64,
   "metadata": {},
   "outputs": [
    {
     "name": "stdout",
     "output_type": "stream",
     "text": [
      "[1, 1]\n",
      "[datetime.datetime(2018, 5, 22, 13, 29, 49, 661079), datetime.datetime(2018, 5, 22, 13, 30, 4, 632691)]\n"
     ]
    }
   ],
   "source": [
    "video=cv2.VideoCapture(0)\n",
    "\n",
    "first_frame=None\n",
    "status_list=[None,None]\n",
    "times=[]\n",
    "df=pd.DataFrame(columns=['Start','End'])\n",
    "while True:\n",
    "\n",
    "    check, frame =video.read()\n",
    "    status=0\n",
    "    gray=cv2.cvtColor(frame,cv2.COLOR_BGR2GRAY)\n",
    "    gray=cv2.GaussianBlur(gray,(21,21),0)#smooths image to remove noise\n",
    "    #21,21 is parameteros of blurryness, 0 is std dev\n",
    "    if first_frame is None:\n",
    "        first_frame=gray\n",
    "        continue #means return to the beginning of the loop and do not run rest of code\n",
    "        \n",
    "    #depth/difference of frame\n",
    "    delta_frame=cv2.absdiff(first_frame,gray)\n",
    "    \n",
    "    #classifying values as white =255, black=0\n",
    "    thresh_frame=cv2.threshold(delta_frame,30,255,cv2.THRESH_BINARY)[1]\n",
    "    \n",
    "    #smooth threshold frame\n",
    "    thresh_frame=cv2.dilate(thresh_frame,None,iterations=2)\n",
    "    \n",
    "    #contour detection\n",
    "    (_,cnts,_)=cv2.findContours(thresh_frame.copy(),cv2.RETR_EXTERNAL,cv2.CHAIN_APPROX_SIMPLE)\n",
    "    \n",
    "    for i in cnts:\n",
    "        if cv2.contourArea(i) <1000:\n",
    "            continue\n",
    "        status=1\n",
    "        \n",
    "        (x,y,w,h)=cv2.boundingRect (i)\n",
    "        cv2.rectangle(frame,(x,y),(x+w, y+h),(0,255,0),3)\n",
    "    #recording datime    \n",
    "    status_list.append(status)\n",
    "    \n",
    "    status_list=status_list[-2:]\n",
    "    \n",
    "    if status_list[-1]==1 and status_list[-2]==0:#if changes from 0 to 1\n",
    "        times.append(datetime.now())\n",
    "    if status_list[-1]==-1 and status_list[-2]==1:# if changes from 1 to 0 \n",
    "        times.append(datetime.now())\n",
    "    \n",
    "    cv2.imshow('Gray Frame',gray)\n",
    "    cv2.imshow('Delta Frame',delta_frame)\n",
    "    cv2.imshow('Threshold Frame',thresh_frame)\n",
    "    cv2.imshow('Color Frame',frame)\n",
    "    key=cv2.waitKey(2000)\n",
    "    \n",
    "    if key==ord('q'):#press q to exit video\n",
    "        if status==1:\n",
    "            times.append(datetime.now())\n",
    "        break\n",
    "print(status_list)\n",
    "print(times)\n",
    "\n",
    "for i in range(0,len(times),2):\n",
    "    df=df.append({\"Start\":times[i],'End':times[i+1]},ignore_index=True)\n",
    "\n",
    "df.to_csv('Times.csv')\n",
    "\n",
    "\n",
    "video.release()\n",
    "cv2.destroyAllWindows()"
   ]
  },
  {
   "cell_type": "code",
   "execution_count": 65,
   "metadata": {},
   "outputs": [
    {
     "data": {
      "text/html": [
       "<div>\n",
       "<style scoped>\n",
       "    .dataframe tbody tr th:only-of-type {\n",
       "        vertical-align: middle;\n",
       "    }\n",
       "\n",
       "    .dataframe tbody tr th {\n",
       "        vertical-align: top;\n",
       "    }\n",
       "\n",
       "    .dataframe thead th {\n",
       "        text-align: right;\n",
       "    }\n",
       "</style>\n",
       "<table border=\"1\" class=\"dataframe\">\n",
       "  <thead>\n",
       "    <tr style=\"text-align: right;\">\n",
       "      <th></th>\n",
       "      <th>Start</th>\n",
       "      <th>End</th>\n",
       "    </tr>\n",
       "  </thead>\n",
       "  <tbody>\n",
       "    <tr>\n",
       "      <th>0</th>\n",
       "      <td>2018-05-22 13:29:49.661079</td>\n",
       "      <td>2018-05-22 13:30:04.632691</td>\n",
       "    </tr>\n",
       "  </tbody>\n",
       "</table>\n",
       "</div>"
      ],
      "text/plain": [
       "                       Start                        End\n",
       "0 2018-05-22 13:29:49.661079 2018-05-22 13:30:04.632691"
      ]
     },
     "execution_count": 65,
     "metadata": {},
     "output_type": "execute_result"
    }
   ],
   "source": [
    "df"
   ]
  },
  {
   "cell_type": "code",
   "execution_count": 78,
   "metadata": {},
   "outputs": [],
   "source": [
    "#Bokeh Visualization and Hover Tool Implementation\n",
    "df['Start_String']=df['Start'].dt.strftime('%Y-%m-%d %H:%M:%S')\n",
    "df['End_String']=df['End'].dt.strftime('%Y-%m-%d %H:%M:%S')\n",
    "cds=ColumnDataSource(df)\n",
    "\n",
    "mg=figure(x_axis_type='datetime', height=100,width=500,title='Motion Detector Activity')\n",
    "mg.yaxis.minor_tick_line_color=None\n",
    "mg.ygrid[0].ticker.desired_num_ticks=1\n",
    "\n",
    "hover=HoverTool(tooltips=[('Start','@Start_String'),('End','@End_String')])\n",
    "mg.add_tools(hover)\n",
    "\n",
    "\n",
    "q=mg.quad(left='Start',right='End',bottom=0,top=1,color='green',source=cds)\n",
    "output_file('MotionAct ivity.html')\n",
    "show(mg)"
   ]
  }
 ],
 "metadata": {
  "kernelspec": {
   "display_name": "Python 3",
   "language": "python",
   "name": "python3"
  },
  "language_info": {
   "codemirror_mode": {
    "name": "ipython",
    "version": 3
   },
   "file_extension": ".py",
   "mimetype": "text/x-python",
   "name": "python",
   "nbconvert_exporter": "python",
   "pygments_lexer": "ipython3",
   "version": "3.6.4"
  }
 },
 "nbformat": 4,
 "nbformat_minor": 2
}
