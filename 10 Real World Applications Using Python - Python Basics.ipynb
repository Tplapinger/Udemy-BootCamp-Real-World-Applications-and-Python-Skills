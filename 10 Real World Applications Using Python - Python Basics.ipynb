{
 "cells": [
  {
   "cell_type": "code",
   "execution_count": 21,
   "metadata": {},
   "outputs": [
    {
     "name": "stdout",
     "output_type": "stream",
     "text": [
      "Hello\n"
     ]
    }
   ],
   "source": [
    "print ('Hello')"
   ]
  },
  {
   "cell_type": "code",
   "execution_count": 22,
   "metadata": {},
   "outputs": [
    {
     "data": {
      "text/plain": [
       "7"
      ]
     },
     "execution_count": 22,
     "metadata": {},
     "output_type": "execute_result"
    }
   ],
   "source": [
    "3+4"
   ]
  },
  {
   "cell_type": "markdown",
   "metadata": {},
   "source": [
    "#### Teaching Function"
   ]
  },
  {
   "cell_type": "code",
   "execution_count": 23,
   "metadata": {
    "scrolled": true
   },
   "outputs": [
    {
     "name": "stdout",
     "output_type": "stream",
     "text": [
      "('Flat Floor Street', '18')\n",
      "Enter your pin1234\n",
      "Enter fruit: banana\n",
      "That fruit is in the list\n"
     ]
    }
   ],
   "source": [
    "address= ['Flat Floor Street', '18','New York'] # List in address variable\n",
    "pins= {'Mike':1234, \"Joe\":1111,'Jack':2222} # Dictionary  in pins variable\n",
    "\n",
    "print(address[0],address[1]) #Print Address Street Name and Number\n",
    "pin=int(input(\"Enter your pin\"))  #Getting user Input\n",
    "\n",
    "\n",
    "def find_in_file(user_fruit): #Function\n",
    "    myfile=open('sample.txt')\n",
    "    fruits=file.read(myfile)\n",
    "    myfile.close()\n",
    "    fruits=fruits.splitlines()\n",
    "    if user_fruit in fruits:\n",
    "        return \"That fruit is in the list\"\n",
    "    else:\n",
    "        return \"No such fruit found!\"\n",
    "\n",
    "if pin in pins.values():\n",
    "    fruit= raw_input(\"Enter fruit: \")\n",
    "    print (find_in_file(fruit))\n",
    "else:\n",
    "    print (\"Incorrect pin!\")\n",
    "    print(\"This info can be accessed only by: \")\n",
    "    for key in pins.keys():\n",
    "        print (key)"
   ]
  },
  {
   "cell_type": "markdown",
   "metadata": {},
   "source": [
    "#### Variable"
   ]
  },
  {
   "cell_type": "code",
   "execution_count": 24,
   "metadata": {},
   "outputs": [
    {
     "name": "stdout",
     "output_type": "stream",
     "text": [
      "{'Mike': 1234, 'Joe': 1111, 'Jack': 2222}\n"
     ]
    }
   ],
   "source": [
    "print pins"
   ]
  },
  {
   "cell_type": "markdown",
   "metadata": {},
   "source": [
    "#### Strings"
   ]
  },
  {
   "cell_type": "code",
   "execution_count": 25,
   "metadata": {},
   "outputs": [
    {
     "name": "stdout",
     "output_type": "stream",
     "text": [
      "Hello\n",
      "<type 'str'>\n",
      "5\n"
     ]
    }
   ],
   "source": [
    "print('Hello')\n",
    "print type('Hello')\n",
    "print len('Hello')"
   ]
  },
  {
   "cell_type": "markdown",
   "metadata": {},
   "source": [
    "#### Numbers"
   ]
  },
  {
   "cell_type": "code",
   "execution_count": 26,
   "metadata": {},
   "outputs": [
    {
     "name": "stdout",
     "output_type": "stream",
     "text": [
      "<type 'int'>\n",
      "<type 'float'>\n",
      "20.98\n"
     ]
    }
   ],
   "source": [
    "a=10 #int\n",
    "b=10.98 #float\n",
    "print type(a)\n",
    "print type(b)\n",
    "print (a + b)"
   ]
  },
  {
   "cell_type": "markdown",
   "metadata": {},
   "source": [
    "#### Built in Functions"
   ]
  },
  {
   "cell_type": "code",
   "execution_count": 27,
   "metadata": {
    "scrolled": true
   },
   "outputs": [
    {
     "name": "stdout",
     "output_type": "stream",
     "text": [
      "Help on built-in function len in module __builtin__:\n",
      "\n",
      "len(...)\n",
      "    len(object) -> integer\n",
      "    \n",
      "    Return the number of items of a sequence or collection.\n",
      "\n"
     ]
    }
   ],
   "source": [
    "type(10) #Type function\n",
    "#All built in functions\n",
    "dir(__builtins__) #starting at abs a list of builtin functions\n",
    "help(len) #Help with len, length of, function"
   ]
  },
  {
   "cell_type": "markdown",
   "metadata": {},
   "source": [
    "#### lists"
   ]
  },
  {
   "cell_type": "code",
   "execution_count": 28,
   "metadata": {},
   "outputs": [
    {
     "name": "stdout",
     "output_type": "stream",
     "text": [
      "Flat Floor Street\n",
      "18\n",
      "New York\n",
      "3\n",
      "38\n",
      "['Flat Floor Street', 18]\n",
      "['Flat Floor Street', 18]\n",
      "['Flat Floor Street', 18, 'New York']\n",
      "[18, 'New York']\n"
     ]
    }
   ],
   "source": [
    "address= ['Flat Floor Street', 18,'New York']\n",
    "#list index\n",
    "print (address[0])\n",
    "print(address[1])\n",
    "print(address[2])\n",
    "print(len(address))\n",
    "print (address[1]+20)\n",
    "#List Splicing\n",
    "print (address[0:2])\n",
    "print (address[0:-1])\n",
    "print(address[:])\n",
    "print(address[-2:])"
   ]
  },
  {
   "cell_type": "markdown",
   "metadata": {},
   "source": [
    "#### List Methods"
   ]
  },
  {
   "cell_type": "code",
   "execution_count": 29,
   "metadata": {
    "scrolled": true
   },
   "outputs": [
    {
     "name": "stdout",
     "output_type": "stream",
     "text": [
      "['Flat Floor Street', 18, 'New York', 'USA']\n",
      "['Flat Floor Street', 18, 'New York']\n"
     ]
    }
   ],
   "source": [
    "dir(address) #list all methods you can apply to the list and strings\n",
    "address.append(\"USA\")\n",
    "print(address)\n",
    "address.remove('USA')\n",
    "print (address)"
   ]
  },
  {
   "cell_type": "markdown",
   "metadata": {},
   "source": [
    "#### Dictionaries"
   ]
  },
  {
   "cell_type": "code",
   "execution_count": 30,
   "metadata": {},
   "outputs": [
    {
     "name": "stdout",
     "output_type": "stream",
     "text": [
      "1234\n",
      "<type 'int'>\n",
      "Value : ['Mike', 'Joe', 'Jack']\n",
      "[1234, 1111, 2222]\n"
     ]
    }
   ],
   "source": [
    "pins= {'Mike':1234, \"Joe\":1111,'Jack':2222} \n",
    "#indexing does not work with dictionaries\n",
    "print(pins['Mike'])\n",
    "print (type(pins['Mike']))\n",
    "print (\"Value : %s\" %  pins.keys())\n",
    "print (pins.values())"
   ]
  },
  {
   "cell_type": "markdown",
   "metadata": {},
   "source": [
    "#### Input"
   ]
  },
  {
   "cell_type": "code",
   "execution_count": 31,
   "metadata": {},
   "outputs": [
    {
     "name": "stdout",
     "output_type": "stream",
     "text": [
      "Enter a Number: 1234\n",
      "1522756\n"
     ]
    }
   ],
   "source": [
    "user_input=input('Enter a Number: ')\n",
    "print (int(user_input**2))"
   ]
  },
  {
   "cell_type": "markdown",
   "metadata": {},
   "source": [
    "#### Conditionals"
   ]
  },
  {
   "cell_type": "code",
   "execution_count": 32,
   "metadata": {},
   "outputs": [
    {
     "name": "stdout",
     "output_type": "stream",
     "text": [
      "Enter fruit: banana\n",
      "That fruit is in the list\n"
     ]
    }
   ],
   "source": [
    "if pin in pins.values(): #if statment\n",
    "    fruit= raw_input(\"Enter fruit: \")\n",
    "    print (find_in_file(fruit))\n",
    "else:\n",
    "    print (\"Incorrect pin!\")\n",
    "    print(\"This info can be accessed only by: \")\n",
    "    for key in pins.keys(): # for loop\n",
    "        print (key)"
   ]
  },
  {
   "cell_type": "code",
   "execution_count": 33,
   "metadata": {},
   "outputs": [
    {
     "name": "stdout",
     "output_type": "stream",
     "text": [
      "Yes\n"
     ]
    }
   ],
   "source": [
    "if 1==1:\n",
    "    print('Yes')\n",
    "else:\n",
    "    print('No')"
   ]
  },
  {
   "cell_type": "markdown",
   "metadata": {},
   "source": [
    "#### Conditionals with Multples Conditions"
   ]
  },
  {
   "cell_type": "code",
   "execution_count": 34,
   "metadata": {},
   "outputs": [
    {
     "name": "stdout",
     "output_type": "stream",
     "text": [
      "Enter number: 3\n",
      "Smaller\n"
     ]
    }
   ],
   "source": [
    "user_input=float(input('Enter number: '))\n",
    "if user_input >100:\n",
    "    print(\"Greater\")\n",
    "elif user_input == 100:\n",
    "    print('Equal')\n",
    "else:\n",
    "    print('Smaller')"
   ]
  },
  {
   "cell_type": "markdown",
   "metadata": {},
   "source": [
    "#### Custom Functions"
   ]
  },
  {
   "cell_type": "code",
   "execution_count": 35,
   "metadata": {
    "collapsed": true
   },
   "outputs": [],
   "source": [
    "def find_in_file(user_fruit):\n",
    "    myfile=open('sample.txt')\n",
    "    fruits=file.read(myfile)\n",
    "    myfile.close()\n",
    "    fruits=fruits.splitlines()\n",
    "    if user_fruit in fruits:\n",
    "        return \"That fruit is in the list\"\n",
    "    else:\n",
    "        return \"No such fruit found!\""
   ]
  },
  {
   "cell_type": "code",
   "execution_count": 36,
   "metadata": {},
   "outputs": [
    {
     "data": {
      "text/plain": [
       "66"
      ]
     },
     "execution_count": 36,
     "metadata": {},
     "output_type": "execute_result"
    }
   ],
   "source": [
    "def calculate_age(year):\n",
    "    age=2018-year\n",
    "    return age\n",
    "calculate_age(1952)"
   ]
  },
  {
   "cell_type": "code",
   "execution_count": 37,
   "metadata": {},
   "outputs": [
    {
     "name": "stdout",
     "output_type": "stream",
     "text": [
      "31\n"
     ]
    }
   ],
   "source": [
    "#Create a function that takes any string as argument \n",
    "#and returns the length of that string.\n",
    "\n",
    "def string_length(string):\n",
    "    return len(string)\n",
    "print(string_length('The Good, The Bad, and The Ugly'))"
   ]
  },
  {
   "cell_type": "code",
   "execution_count": 38,
   "metadata": {},
   "outputs": [
    {
     "name": "stdout",
     "output_type": "stream",
     "text": [
      "12.192\n",
      "6.2\n"
     ]
    }
   ],
   "source": [
    "#Custom Functions with Multiple Parameters(meters to feet)\n",
    "def converter(original_unit, coefficient=0.3048):\n",
    "    return original_unit * coefficient\n",
    "print (converter(40))\n",
    "#km to miles\n",
    "print(converter(10,0.62))"
   ]
  },
  {
   "cell_type": "code",
   "execution_count": 48,
   "metadata": {},
   "outputs": [
    {
     "name": "stdout",
     "output_type": "stream",
     "text": [
      "86.0\n",
      "That temperature doesn't make sense!\n",
      "2\n"
     ]
    }
   ],
   "source": [
    "def c_to_f(x):\n",
    "    return (x*1.8)+32\n",
    "print (c_to_f(30))\n",
    "\n",
    "def c_to_f2(c):    \n",
    "    if c < -273.15:        \n",
    "        return \"That temperature doesn't make sense!\"    \n",
    "    else:        \n",
    "        f = c * 9/5 + 32        \n",
    "        return f\n",
    "print(c_to_f2(-273.4))\n",
    "\n",
    "#integers that can use strings\n",
    "def string_length(mystring):\n",
    "    return len(str(mystring))\n",
    "print(string_length(10))\n",
    "#or\n",
    "def string_length2(mystring):\n",
    "    if type(mystring) == int:\n",
    "         return \"Sorry, integers don't have length\"\n",
    "    else:\n",
    "         return len(mystring)\n",
    "#int,floats, and strings\n",
    "def string_length3(mystring):\n",
    "     if type(mystring) == int:\n",
    "        return \"Sorry, integers don't have length\"\n",
    "     elif type(mystring) == float:\n",
    "        return \"Sorry, floats don't have length\"\n",
    "     else:\n",
    "        return len(mystring)"
   ]
  },
  {
   "cell_type": "markdown",
   "metadata": {},
   "source": [
    "#### Opening External Text files"
   ]
  },
  {
   "cell_type": "code",
   "execution_count": 55,
   "metadata": {},
   "outputs": [
    {
     "name": "stdout",
     "output_type": "stream",
     "text": [
      "apple\n",
      "orange\n",
      "banana\n",
      "\n"
     ]
    }
   ],
   "source": [
    "myfile=open('sample.txt')\n",
    "content=myfile.read()\n",
    "myfile.close()\n",
    "print(content)"
   ]
  },
  {
   "cell_type": "markdown",
   "metadata": {},
   "source": [
    "#### Working with file paths if file was in another location"
   ]
  },
  {
   "cell_type": "code",
   "execution_count": null,
   "metadata": {},
   "outputs": [],
   "source": [
    "myfile=open('files/sample.txt')\n",
    "content=myfile.read()\n",
    "myfile.close()\n",
    "print(content)\n"
   ]
  },
  {
   "cell_type": "markdown",
   "metadata": {},
   "source": [
    "#### Processing Content of the file\n",
    "\n"
   ]
  },
  {
   "cell_type": "code",
   "execution_count": 59,
   "metadata": {
    "scrolled": true
   },
   "outputs": [
    {
     "name": "stdout",
     "output_type": "stream",
     "text": [
      "['apple', 'orange', 'banana']\n"
     ]
    }
   ],
   "source": [
    "myfile=open('sample.txt')\n",
    "fruits=file.read(myfile)\n",
    "myfile.close()\n",
    "fruits=fruits.splitlines()\n",
    "print(fruits)"
   ]
  },
  {
   "cell_type": "code",
   "execution_count": 62,
   "metadata": {},
   "outputs": [
    {
     "name": "stdout",
     "output_type": "stream",
     "text": [
      "pear\n",
      "apple\n",
      "orange\n",
      "mandarin\n",
      "watermelon\n",
      "pomegranate\n",
      "\n"
     ]
    }
   ],
   "source": [
    "myfile=open('fruits.txt','r')\n",
    "content=myfile.read()\n",
    "myfile.close()\n",
    "print(content)"
   ]
  },
  {
   "cell_type": "markdown",
   "metadata": {},
   "source": [
    "#### For Loops"
   ]
  },
  {
   "cell_type": "code",
   "execution_count": 69,
   "metadata": {},
   "outputs": [
    {
     "name": "stdout",
     "output_type": "stream",
     "text": [
      "1\n",
      "2\n",
      "3\n",
      "4\n",
      "5\n"
     ]
    }
   ],
   "source": [
    "mylist = [1, 2, 3, 4, 5]\n",
    "for i in mylist:\n",
    "    print(i)"
   ]
  },
  {
   "cell_type": "code",
   "execution_count": 65,
   "metadata": {},
   "outputs": [
    {
     "name": "stdout",
     "output_type": "stream",
     "text": [
      "Mike\n",
      "Joe\n",
      "Jack\n"
     ]
    }
   ],
   "source": [
    "for key in pins.keys():\n",
    "        print (key)"
   ]
  },
  {
   "cell_type": "code",
   "execution_count": 66,
   "metadata": {},
   "outputs": [
    {
     "name": "stdout",
     "output_type": "stream",
     "text": [
      "11\n",
      "12\n",
      "13\n"
     ]
    }
   ],
   "source": [
    "a=[1,2,3]\n",
    "for i in a:\n",
    "    c=i+10\n",
    "    print (c)"
   ]
  },
  {
   "cell_type": "code",
   "execution_count": 68,
   "metadata": {
    "collapsed": true
   },
   "outputs": [
    {
     "name": "stdout",
     "output_type": "stream",
     "text": [
      "['pear', 'apple', 'orange', 'mandarin', 'watermelon', 'pomegranate']\n",
      "['pear', 'apple', 'orange', 'mandarin', 'watermelon', 'pomegranate']\n",
      "['pear', 'apple', 'orange', 'mandarin', 'watermelon', 'pomegranate']\n",
      "['pear', 'apple', 'orange', 'mandarin', 'watermelon', 'pomegranate']\n",
      "['pear', 'apple', 'orange', 'mandarin', 'watermelon', 'pomegranate']\n",
      "['pear', 'apple', 'orange', 'mandarin', 'watermelon', 'pomegranate']\n",
      "['pear', 'apple', 'orange', 'mandarin', 'watermelon', 'pomegranate']\n",
      "['pear', 'apple', 'orange', 'mandarin', 'watermelon', 'pomegranate']\n",
      "['pear', 'apple', 'orange', 'mandarin', 'watermelon', 'pomegranate']\n",
      "['pear', 'apple', 'orange', 'mandarin', 'watermelon', 'pomegranate']\n",
      "['pear', 'apple', 'orange', 'mandarin', 'watermelon', 'pomegranate']\n",
      "['pear', 'apple', 'orange', 'mandarin', 'watermelon', 'pomegranate']\n",
      "['pear', 'apple', 'orange', 'mandarin', 'watermelon', 'pomegranate']\n",
      "['pear', 'apple', 'orange', 'mandarin', 'watermelon', 'pomegranate']\n",
      "['pear', 'apple', 'orange', 'mandarin', 'watermelon', 'pomegranate']\n",
      "['pear', 'apple', 'orange', 'mandarin', 'watermelon', 'pomegranate']\n",
      "['pear', 'apple', 'orange', 'mandarin', 'watermelon', 'pomegranate']\n",
      "['pear', 'apple', 'orange', 'mandarin', 'watermelon', 'pomegranate']\n",
      "['pear', 'apple', 'orange', 'mandarin', 'watermelon', 'pomegranate']\n",
      "['pear', 'apple', 'orange', 'mandarin', 'watermelon', 'pomegranate']\n",
      "['pear', 'apple', 'orange', 'mandarin', 'watermelon', 'pomegranate']\n",
      "['pear', 'apple', 'orange', 'mandarin', 'watermelon', 'pomegranate']\n",
      "['pear', 'apple', 'orange', 'mandarin', 'watermelon', 'pomegranate']\n",
      "['pear', 'apple', 'orange', 'mandarin', 'watermelon', 'pomegranate']\n",
      "['pear', 'apple', 'orange', 'mandarin', 'watermelon', 'pomegranate']\n",
      "['pear', 'apple', 'orange', 'mandarin', 'watermelon', 'pomegranate']\n",
      "['pear', 'apple', 'orange', 'mandarin', 'watermelon', 'pomegranate']\n",
      "['pear', 'apple', 'orange', 'mandarin', 'watermelon', 'pomegranate']\n",
      "['pear', 'apple', 'orange', 'mandarin', 'watermelon', 'pomegranate']\n",
      "['pear', 'apple', 'orange', 'mandarin', 'watermelon', 'pomegranate']\n",
      "['pear', 'apple', 'orange', 'mandarin', 'watermelon', 'pomegranate']\n",
      "['pear', 'apple', 'orange', 'mandarin', 'watermelon', 'pomegranate']\n",
      "['pear', 'apple', 'orange', 'mandarin', 'watermelon', 'pomegranate']\n",
      "['pear', 'apple', 'orange', 'mandarin', 'watermelon', 'pomegranate']\n",
      "['pear', 'apple', 'orange', 'mandarin', 'watermelon', 'pomegranate']\n",
      "['pear', 'apple', 'orange', 'mandarin', 'watermelon', 'pomegranate']\n",
      "['pear', 'apple', 'orange', 'mandarin', 'watermelon', 'pomegranate']\n",
      "['pear', 'apple', 'orange', 'mandarin', 'watermelon', 'pomegranate']\n",
      "['pear', 'apple', 'orange', 'mandarin', 'watermelon', 'pomegranate']\n",
      "['pear', 'apple', 'orange', 'mandarin', 'watermelon', 'pomegranate']\n",
      "['pear', 'apple', 'orange', 'mandarin', 'watermelon', 'pomegranate']\n",
      "['pear', 'apple', 'orange', 'mandarin', 'watermelon', 'pomegranate']\n",
      "['pear', 'apple', 'orange', 'mandarin', 'watermelon', 'pomegranate']\n",
      "['pear', 'apple', 'orange', 'mandarin', 'watermelon', 'pomegranate']\n",
      "['pear', 'apple', 'orange', 'mandarin', 'watermelon', 'pomegranate']\n",
      "['pear', 'apple', 'orange', 'mandarin', 'watermelon', 'pomegranate']\n",
      "['pear', 'apple', 'orange', 'mandarin', 'watermelon', 'pomegranate']\n",
      "['pear', 'apple', 'orange', 'mandarin', 'watermelon', 'pomegranate']\n",
      "['pear', 'apple', 'orange', 'mandarin', 'watermelon', 'pomegranate']\n",
      "['pear', 'apple', 'orange', 'mandarin', 'watermelon', 'pomegranate']\n"
     ]
    }
   ],
   "source": [
    "for i in content:\n",
    "    print (content.splitlines())"
   ]
  },
  {
   "cell_type": "code",
   "execution_count": 73,
   "metadata": {},
   "outputs": [
    {
     "name": "stdout",
     "output_type": "stream",
     "text": [
      "3\n",
      "4\n",
      "5\n"
     ]
    }
   ],
   "source": [
    "mylist=[1,2,3,4,5]\n",
    "for i in mylist:\n",
    "    if i > 2:\n",
    "        print (i)"
   ]
  },
  {
   "cell_type": "code",
   "execution_count": 76,
   "metadata": {},
   "outputs": [
    {
     "name": "stdout",
     "output_type": "stream",
     "text": [
      "4\n",
      "5\n",
      "6\n",
      "8\n",
      "10\n",
      "11\n"
     ]
    }
   ],
   "source": [
    "myfile=open('fruits.txt','r')\n",
    "content2=myfile.read()\n",
    "myfile.close()\n",
    "for i in content.splitlines():\n",
    "    print (len(i))"
   ]
  },
  {
   "cell_type": "code",
   "execution_count": 78,
   "metadata": {},
   "outputs": [
    {
     "name": "stdout",
     "output_type": "stream",
     "text": [
      "50\n",
      "-4\n",
      "That temperature doesn't make sense!\n",
      "212\n"
     ]
    }
   ],
   "source": [
    "temperatures =[10,-20,-289,100]\n",
    "def c_to_f(c):\n",
    "    if c< -273.15:\n",
    "        return \"That temperature doesn't make sense!\"\n",
    "    else:\n",
    "        f=c*9/5+32\n",
    "        return f\n",
    "for i in temperatures:\n",
    "    print (c_to_f(i))"
   ]
  },
  {
   "cell_type": "markdown",
   "metadata": {},
   "source": [
    "#### Writing Text Into File"
   ]
  },
  {
   "cell_type": "code",
   "execution_count": 91,
   "metadata": {},
   "outputs": [],
   "source": [
    "myfile2=open('employees.txt','w')\n",
    "myfile2.write('Mike\\nJoe\\nJack')\n",
    "myfile.close()"
   ]
  },
  {
   "cell_type": "markdown",
   "metadata": {},
   "source": [
    "#### Appending a Text file"
   ]
  },
  {
   "cell_type": "code",
   "execution_count": 99,
   "metadata": {},
   "outputs": [],
   "source": [
    "myfile3=open('employees3.txt','a')\n",
    "myfile3.write('\\nJack')\n",
    "myfile3.close()"
   ]
  },
  {
   "cell_type": "code",
   "execution_count": 101,
   "metadata": {},
   "outputs": [
    {
     "data": {
      "text/plain": [
       "''"
      ]
     },
     "execution_count": 101,
     "metadata": {},
     "output_type": "execute_result"
    }
   ],
   "source": [
    "myfile4=open('employees.txt','a+') #a+ allows to read and write\n",
    "myfile4.read()"
   ]
  },
  {
   "cell_type": "code",
   "execution_count": 102,
   "metadata": {
    "collapsed": true
   },
   "outputs": [],
   "source": [
    "numbers = [1, 2, 3]\n",
    "file = open(\"numbers.txt\", \"w\")\n",
    "for i in numbers:\n",
    "     file.write(str(i) + \"\\n\")\n",
    "file.close()"
   ]
  }
 ],
 "metadata": {
  "kernelspec": {
   "display_name": "Python 3",
   "language": "python",
   "name": "python3"
  },
  "language_info": {
   "codemirror_mode": {
    "name": "ipython",
    "version": 3
   },
   "file_extension": ".py",
   "mimetype": "text/x-python",
   "name": "python",
   "nbconvert_exporter": "python",
   "pygments_lexer": "ipython3",
   "version": "3.6.4"
  }
 },
 "nbformat": 4,
 "nbformat_minor": 2
}
