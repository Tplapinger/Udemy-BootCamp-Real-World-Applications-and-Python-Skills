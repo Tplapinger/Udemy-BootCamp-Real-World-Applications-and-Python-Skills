{
 "cells": [
  {
   "cell_type": "markdown",
   "metadata": {
    "collapsed": true
   },
   "source": [
    "####  Loading the JSON Data into a Python Dictionary"
   ]
  },
  {
   "cell_type": "code",
   "execution_count": 1,
   "metadata": {
    "collapsed": true
   },
   "outputs": [],
   "source": [
    "import json"
   ]
  },
  {
   "cell_type": "code",
   "execution_count": 2,
   "metadata": {
    "collapsed": true
   },
   "outputs": [],
   "source": [
    "data = json.load(open('data.json'))"
   ]
  },
  {
   "cell_type": "markdown",
   "metadata": {},
   "source": [
    "#### Returning Definition Of Word"
   ]
  },
  {
   "cell_type": "code",
   "execution_count": 12,
   "metadata": {},
   "outputs": [
    {
     "name": "stdout",
     "output_type": "stream",
     "text": [
      "Enter Word: rain\n",
      "[u'Precipitation in the form of liquid water drops with diameters greater than 0.5 millimetres.', u'To fall from the clouds in drops of water.']\n"
     ]
    }
   ],
   "source": [
    "def translate(word):\n",
    "    return data[word]\n",
    "word=raw_input('Enter Word: ')\n",
    "print (translate(word))"
   ]
  },
  {
   "cell_type": "markdown",
   "metadata": {},
   "source": [
    "#### Counting For Non-Existent Words"
   ]
  },
  {
   "cell_type": "code",
   "execution_count": 19,
   "metadata": {},
   "outputs": [
    {
     "name": "stdout",
     "output_type": "stream",
     "text": [
      "Enter Word: adaja\n",
      "The word doesn't exist. Please Double Check it.\n"
     ]
    }
   ],
   "source": [
    "def nonexist(word):\n",
    "    if word in data:\n",
    "        return data[word]\n",
    "    else:\n",
    "        return \"The word doesn't exist. Please Double Check it.\"\n",
    "word=raw_input('Enter Word: ')\n",
    "print (nonexist(word))"
   ]
  },
  {
   "cell_type": "markdown",
   "metadata": {},
   "source": [
    "#### Making the Program Letter Case Insensitive"
   ]
  },
  {
   "cell_type": "code",
   "execution_count": 20,
   "metadata": {},
   "outputs": [
    {
     "name": "stdout",
     "output_type": "stream",
     "text": [
      "Enter Word: RAIN\n",
      "[u'Precipitation in the form of liquid water drops with diameters greater than 0.5 millimetres.', u'To fall from the clouds in drops of water.']\n"
     ]
    }
   ],
   "source": [
    "def nocase(word):\n",
    "    word=word.lower()\n",
    "    if word in data:\n",
    "        return data[word]\n",
    "    else:\n",
    "        return \"The word doesn't exist. Please Double Check it.\"\n",
    "word=raw_input('Enter Word: ')\n",
    "print (nocase(word))"
   ]
  },
  {
   "cell_type": "markdown",
   "metadata": {},
   "source": [
    "#### Calculating Similarity Ratio Between Words \n",
    "#### Finding the Best Match of a Word out of a list of Words\n",
    "#### Making the Program Suggest Similar Word"
   ]
  },
  {
   "cell_type": "code",
   "execution_count": 23,
   "metadata": {},
   "outputs": [
    {
     "data": {
      "text/plain": [
       "0.8888888888888888"
      ]
     },
     "execution_count": 23,
     "metadata": {},
     "output_type": "execute_result"
    }
   ],
   "source": [
    "from difflib import SequenceMatcher\n",
    "SequenceMatcher(None,\"rainn\", \"rain\" ).ratio()\n",
    "#88.88% similar"
   ]
  },
  {
   "cell_type": "code",
   "execution_count": 34,
   "metadata": {},
   "outputs": [
    {
     "name": "stdout",
     "output_type": "stream",
     "text": [
      "['rain']\n",
      "[u'rain', u'train', u'rainy']\n"
     ]
    }
   ],
   "source": [
    "from difflib import get_close_matches\n",
    "#get_close_matches syntax - get_close_matches(word, possibilities,n=3, cutoff=0.6)\n",
    "print get_close_matches(\"rainn\",['help','pyramid','rain'])\n",
    "#used default cutoff and n\n",
    "print get_close_matches('rain',data.keys(), cutoff=0.8)"
   ]
  },
  {
   "cell_type": "code",
   "execution_count": 39,
   "metadata": {},
   "outputs": [
    {
     "name": "stdout",
     "output_type": "stream",
     "text": [
      "Enter Word: rainn\n",
      "Did you mean [] instead?\n"
     ]
    }
   ],
   "source": []
  },
  {
   "cell_type": "code",
   "execution_count": null,
   "metadata": {
    "collapsed": true
   },
   "outputs": [],
   "source": []
  },
  {
   "cell_type": "code",
   "execution_count": null,
   "metadata": {
    "collapsed": true
   },
   "outputs": [],
   "source": []
  }
 ],
 "metadata": {
  "kernelspec": {
   "display_name": "Python 2",
   "language": "python",
   "name": "python2"
  },
  "language_info": {
   "codemirror_mode": {
    "name": "ipython",
    "version": 2
   },
   "file_extension": ".py",
   "mimetype": "text/x-python",
   "name": "python",
   "nbconvert_exporter": "python",
   "pygments_lexer": "ipython2",
   "version": "2.7.13"
  }
 },
 "nbformat": 4,
 "nbformat_minor": 2
}
