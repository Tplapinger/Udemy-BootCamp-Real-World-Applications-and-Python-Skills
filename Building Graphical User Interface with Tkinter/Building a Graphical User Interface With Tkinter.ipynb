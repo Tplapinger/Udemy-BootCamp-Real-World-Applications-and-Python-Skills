{
 "cells": [
  {
   "cell_type": "markdown",
   "metadata": {},
   "source": [
    "Setting up GUI with Widgets"
   ]
  },
  {
   "cell_type": "code",
   "execution_count": 1,
   "metadata": {},
   "outputs": [],
   "source": [
    "from tkinter import * #import all tkinter objects\n",
    "\n",
    "window=Tk()#Create Window\n",
    "#Button\n",
    "b1=Button(window,text='Execute')#create button\n",
    "b1.grid(row=0,colum=0)#where to put button\n",
    "#Entry window\n",
    "e1=Entry(window)\n",
    "e1.grid(row=0,column=1)\n",
    "#text\n",
    "t1=Text(window,height=1,width=20)\n",
    "t1.grid(row=0,column=2)\n",
    "\n",
    "window.mainloop()#required\n"
   ]
  },
  {
   "cell_type": "markdown",
   "metadata": {},
   "source": [
    " Connecting GUI with Callback Functions"
   ]
  },
  {
   "cell_type": "code",
   "execution_count": 9,
   "metadata": {},
   "outputs": [
    {
     "name": "stdout",
     "output_type": "stream",
     "text": [
      "10\n",
      "10\n",
      "26.2\n"
     ]
    }
   ],
   "source": [
    "from tkinter import * #import all tkinter objects\n",
    "\n",
    "window=Tk()#Create Window\n",
    "\n",
    "#Button\n",
    "b1=Button(window,text='Execute',command=km_to_miles)#create button\n",
    "b1.grid(row=0,column=0)#where to put button\n",
    "#Entry window\n",
    "e1_value=StringVar()\n",
    "e1=Entry(window,textvariable=e1_value)\n",
    "e1.grid(row=0,column=1)\n",
    "#text\n",
    "t1=Text(window,height=1,width=20)\n",
    "t1.grid(row=0,column=2)\n",
    "def km_to_miles():\n",
    "    print(e1_value.get())\n",
    "    miles=float(e1_value.get ())*0.62137\n",
    "    t1.insert(END,miles)  \n",
    "\n",
    "window.mainloop()#required\n",
    "\n"
   ]
  },
  {
   "cell_type": "markdown",
   "metadata": {},
   "source": [
    "Exercise: Create a Multi-widget GUI"
   ]
  },
  {
   "cell_type": "code",
   "execution_count": 23,
   "metadata": {},
   "outputs": [],
   "source": [
    "from tkinter import * #import all tkinter objects\n",
    "\n",
    "weight=Tk()#Create Window\n",
    "\n",
    "def Kg_convert():\n",
    "    grams=float(e3_value.get())*1000\n",
    "    pounds=float(e3_value.get())*2.20462\n",
    "    ounces=float(e3_value.get())*35.274\n",
    "    t2.delete(\"1.0\", END)\n",
    "    t2.insert(END,grams)\n",
    "    t3.delete(\"1.0\", END)\n",
    "    t3.insert(END,pounds)\n",
    "    t4.delete(\"1.0\", END)\n",
    "    t4.insert(END,ounces)\n",
    "    \n",
    "#Button\n",
    "b2=Button(weight,text=\"Convert\",command=Kg_convert)\n",
    "b2.grid(row=0,column=2)\n",
    "#Entry window\n",
    "e2=Label(weight,text=\"Kg\")\n",
    "e2.grid(row=0,column=0)\n",
    " \n",
    "e3_value=StringVar()\n",
    "e3=Entry(weight,textvariable=e3_value)\n",
    "e3.grid(row=0,column=1)\n",
    "#text\n",
    "t2=Text(weight,height=1,width=20)\n",
    "t2.grid(row=1,column=0)\n",
    "t3=Text(weight,height=1,width=20)\n",
    "t3.grid(row=1,column=1)\n",
    "t4=Text(weight,height=1,width=20)\n",
    "t4.grid(row=1,column=2)\n",
    "\n",
    "\n",
    "weight.mainloop()#required\n",
    "\n",
    "\n"
   ]
  },
  {
   "cell_type": "code",
   "execution_count": null,
   "metadata": {},
   "outputs": [],
   "source": []
  }
 ],
 "metadata": {
  "kernelspec": {
   "display_name": "Python 3",
   "language": "python",
   "name": "python3"
  },
  "language_info": {
   "codemirror_mode": {
    "name": "ipython",
    "version": 3
   },
   "file_extension": ".py",
   "mimetype": "text/x-python",
   "name": "python",
   "nbconvert_exporter": "python",
   "pygments_lexer": "ipython3",
   "version": "3.6.4"
  }
 },
 "nbformat": 4,
 "nbformat_minor": 2
}
