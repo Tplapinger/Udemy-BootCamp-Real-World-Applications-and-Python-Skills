{
 "cells": [
  {
   "cell_type": "code",
   "execution_count": 4,
   "metadata": {},
   "outputs": [],
   "source": [
    "import cv2, time, pandas as pd\n",
    "from datetime import datetime"
   ]
  },
  {
   "cell_type": "code",
   "execution_count": 3,
   "metadata": {},
   "outputs": [
    {
     "name": "stdout",
     "output_type": "stream",
     "text": [
      "[1, 1]\n",
      "[datetime.datetime(2018, 5, 21, 14, 26, 36, 846009), datetime.datetime(2018, 5, 21, 14, 26, 49, 769755)]\n"
     ]
    }
   ],
   "source": [
    "video=cv2.VideoCapture(0)\n",
    "\n",
    "first_frame=None\n",
    "status_list=[None,None]\n",
    "times=[]\n",
    "df=pd.DataFrame(columns=['Start','End'])\n",
    "while True:\n",
    "\n",
    "    check, frame =video.read()\n",
    "    status=0\n",
    "    gray=cv2.cvtColor(frame,cv2.COLOR_BGR2GRAY)\n",
    "    gray=cv2.GaussianBlur(gray,(21,21),0)#smooths image to remove noise\n",
    "    #21,21 is parameteros of blurryness, 0 is std dev\n",
    "    if first_frame is None:\n",
    "        first_frame=gray\n",
    "        continue #means return to the beginning of the loop and do not run rest of code\n",
    "        \n",
    "    #depth/difference of frame\n",
    "    delta_frame=cv2.absdiff(first_frame,gray)\n",
    "    \n",
    "    #classifying values as white =255, black=0\n",
    "    thresh_frame=cv2.threshold(delta_frame,30,255,cv2.THRESH_BINARY)[1]\n",
    "    \n",
    "    #smooth threshold frame\n",
    "    thresh_frame=cv2.dilate(thresh_frame,None,iterations=2)\n",
    "    \n",
    "    #contour detection\n",
    "    (_,cnts,_)=cv2.findContours(thresh_frame.copy(),cv2.RETR_EXTERNAL,cv2.CHAIN_APPROX_SIMPLE)\n",
    "    \n",
    "    for i in cnts:\n",
    "        if cv2.contourArea(i) <1000:\n",
    "            continue\n",
    "        status=1\n",
    "        \n",
    "        (x,y,w,h)=cv2.boundingRect (i)\n",
    "        cv2.rectangle(frame,(x,y),(x+w, y+h),(0,255,0),3)\n",
    "    #recording datime    \n",
    "    status_list.append(status)\n",
    "    if status_list[-1]==1 and status_list[-2]==0:#if changes from 0 to 1\n",
    "        times.append(datetime.now())\n",
    "    if status_list[-1]=-1 and status_list[-2]==1:# if changes from 1 to 0 \n",
    "        times.append(datetime.now())\n",
    "    \n",
    "    cv2.imshow('Gray Frame',gray)\n",
    "    cv2.imshow('Delta Frame',delta_frame)\n",
    "    cv2.imshow('Threshold Frame',thresh_frame)\n",
    "    cv2.imshow('Color Frame',frame)\n",
    "    key=cv2.waitKey(2000)\n",
    "    \n",
    "    if key==ord('q'):#press q to exit video\n",
    "        if staus==1:\n",
    "        times.append(datetime.now())\n",
    "        break\n",
    "print(status_list)\n",
    "print(times)\n",
    "\n",
    "for i in range(0,len(times),2):\n",
    "    df=df.append({\"Start\":times[i],'End':times[i+1]},ignore_index=True)\n",
    "\n",
    "df.to_csv('Times.csv')    \n",
    "video.release()\n",
    "cv2.destroyAllWindows()"
   ]
  },
  {
   "cell_type": "code",
   "execution_count": null,
   "metadata": {},
   "outputs": [],
   "source": []
  }
 ],
 "metadata": {
  "kernelspec": {
   "display_name": "Python 3",
   "language": "python",
   "name": "python3"
  },
  "language_info": {
   "codemirror_mode": {
    "name": "ipython",
    "version": 3
   },
   "file_extension": ".py",
   "mimetype": "text/x-python",
   "name": "python",
   "nbconvert_exporter": "python",
   "pygments_lexer": "ipython3",
   "version": "3.6.4"
  }
 },
 "nbformat": 4,
 "nbformat_minor": 2
}
