{
 "cells": [
  {
   "cell_type": "markdown",
   "metadata": {
    "collapsed": true
   },
   "source": [
    "#### While Loops"
   ]
  },
  {
   "cell_type": "code",
   "execution_count": 7,
   "metadata": {},
   "outputs": [
    {
     "name": "stdout",
     "output_type": "stream",
     "text": [
      "Smaller\n",
      "Smaller\n",
      "Smaller\n"
     ]
    }
   ],
   "source": [
    "#will run until a condition is true\n",
    "x=0\n",
    "while x < 3:\n",
    "    print(\"Smaller\")\n",
    "    x=x+1"
   ]
  },
  {
   "cell_type": "markdown",
   "metadata": {},
   "source": [
    "#### While Loops With Password Checker and String Formating"
   ]
  },
  {
   "cell_type": "code",
   "execution_count": 1,
   "metadata": {},
   "outputs": [
    {
     "name": "stdout",
     "output_type": "stream",
     "text": [
      "Enter name: John\n",
      "Enter Surname: Smith\n",
      "Enter password: python123\n",
      "Hi John Smith, you are Logged in\n"
     ]
    }
   ],
   "source": [
    "correct_password= 'python123'\n",
    "name= raw_input('Enter name: ')\n",
    "surname= raw_input('Enter Surname: ')\n",
    "password= raw_input(\"Enter password: \")\n",
    "\n",
    "while correct_password != password:\n",
    "    password=raw_input(\"Wrong password! Enter Again: \")\n",
    "\n",
    "message=\"Hi %s %s, you are Logged in\" % (name, surname)\n",
    "print (message)\n",
    "\n"
   ]
  },
  {
   "cell_type": "markdown",
   "metadata": {},
   "source": [
    "#### Working with Date and Time Objects"
   ]
  },
  {
   "cell_type": "code",
   "execution_count": 28,
   "metadata": {
    "collapsed": true
   },
   "outputs": [],
   "source": [
    "from datetime import datetime"
   ]
  },
  {
   "cell_type": "code",
   "execution_count": 34,
   "metadata": {},
   "outputs": [
    {
     "name": "stdout",
     "output_type": "stream",
     "text": [
      "42834\n",
      "60019\n",
      "2018-04-10 16:40:19.275524\n"
     ]
    }
   ],
   "source": [
    "delta=datetime.now()-datetime(1900,12,31)\n",
    "print(delta.days)\n",
    "print(delta.seconds)\n",
    "print(datetime.now())"
   ]
  },
  {
   "cell_type": "code",
   "execution_count": 44,
   "metadata": {},
   "outputs": [
    {
     "name": "stdout",
     "output_type": "stream",
     "text": [
      "2018-04-10 17:08:18.029809\n",
      "1900-12-31 20:12:59.032421\n",
      "42833 days, 20:55:18.997388\n"
     ]
    }
   ],
   "source": [
    "now=datetime.now()\n",
    "print(now)\n",
    "then=datetime(1900,12,31,20,12,59,32421)\n",
    "print(then)\n",
    "print(now-then)"
   ]
  },
  {
   "cell_type": "code",
   "execution_count": 55,
   "metadata": {},
   "outputs": [
    {
     "name": "stdout",
     "output_type": "stream",
     "text": [
      "2017-12-31 00:00:00\n",
      "2017-12-31 20:59:00\n"
     ]
    },
    {
     "data": {
      "text/plain": [
       "'2017-12-31 20:59'"
      ]
     },
     "execution_count": 55,
     "metadata": {},
     "output_type": "execute_result"
    }
   ],
   "source": [
    "whenever=datetime.strptime(\"2017-12-31\",\"%Y-%m-%d\")\n",
    "print(whenever)\n",
    "whenever2=datetime.strptime(\"2017:12:31:20:59\", \"%Y:%m:%d:%H:%M\")\n",
    "print (whenever2)\n",
    "#Datetime to string\n",
    "whenever2.strftime(\"%Y-%m-%d %H:%M\")"
   ]
  },
  {
   "cell_type": "code",
   "execution_count": 57,
   "metadata": {},
   "outputs": [
    {
     "name": "stdout",
     "output_type": "stream",
     "text": [
      "12\n",
      "2017\n",
      "31\n"
     ]
    }
   ],
   "source": [
    "print (whenever.month)\n",
    "print (whenever.year)\n",
    "print (whenever.day)"
   ]
  },
  {
   "cell_type": "markdown",
   "metadata": {},
   "source": [
    "#### Iterating Multiple Sequences"
   ]
  },
  {
   "cell_type": "code",
   "execution_count": 59,
   "metadata": {},
   "outputs": [
    {
     "name": "stdout",
     "output_type": "stream",
     "text": [
      "('a', 1)\n",
      "('b', 2)\n",
      "('c', 3)\n"
     ]
    }
   ],
   "source": [
    "a=['a','b','c']\n",
    "b=[1,2,3]\n",
    "for i, j in zip(a,b):\n",
    "    print(i,j)"
   ]
  },
  {
   "cell_type": "markdown",
   "metadata": {},
   "source": [
    "#### The With Context Manager"
   ]
  },
  {
   "cell_type": "code",
   "execution_count": 61,
   "metadata": {
    "collapsed": true
   },
   "outputs": [],
   "source": [
    "myfile=open('example.txt',\"w\")\n",
    "myfile.write('something')\n",
    "myfile.close()"
   ]
  },
  {
   "cell_type": "code",
   "execution_count": 63,
   "metadata": {
    "collapsed": true
   },
   "outputs": [],
   "source": [
    "#Closes file for you or if code breaks it will close\n",
    "with open('example.txt','w') as myfile:\n",
    "    myfile.write('Something')"
   ]
  },
  {
   "cell_type": "markdown",
   "metadata": {},
   "source": [
    "### Exercise: File Handling, Loops, Functions, and Conditionals"
   ]
  },
  {
   "cell_type": "code",
   "execution_count": 64,
   "metadata": {},
   "outputs": [
    {
     "name": "stdout",
     "output_type": "stream",
     "text": [
      "50\n",
      "-4\n",
      "That temperature doesn't make sense!\n",
      "212\n"
     ]
    }
   ],
   "source": [
    "temperatures = [10, -20, -289, 100]\n",
    "def c_to_f(c):\n",
    "    if c < -273.15:\n",
    "        return \"That temperature doesn't make sense!\"\n",
    "    else:\n",
    "        f = c* 9/5 + 32\n",
    "        return f\n",
    "for t in temperatures:\n",
    "    print(c_to_f(t))"
   ]
  },
  {
   "cell_type": "code",
   "execution_count": 68,
   "metadata": {
    "collapsed": true
   },
   "outputs": [],
   "source": [
    "temperatures = [10,-20,-289,100]\n",
    " \n",
    "def writer(temperatures, filepath):\n",
    "    with open(filepath, 'w') as file:\n",
    "        for c in temperatures:\n",
    "            if c > -273.15:\n",
    "                f = c* 9/5 + 32\n",
    "                file.write(str(f) + \"\\n\")\n",
    " \n",
    "writer(temperatures, \"temps.txt\") #Here we're calling the function, otherwise no output will be generated"
   ]
  },
  {
   "cell_type": "markdown",
   "metadata": {},
   "source": [
    "#### Exercise: Merging Text Files"
   ]
  },
  {
   "cell_type": "code",
   "execution_count": 69,
   "metadata": {
    "collapsed": true
   },
   "outputs": [],
   "source": [
    "import glob2\n",
    "from datetime import datetime\n",
    " \n",
    "filenames = glob2.glob(\"*.txt\")\n",
    "with open(datetime.now().strftime(\"%Y-%m-%d-%H-%M-%S-%f\")+\".txt\", 'w') as file:\n",
    "    for filename in filenames:       \n",
    "        with open(filename, \"r\") as f:\n",
    "            file.write(f.read() + \"\\n\")"
   ]
  },
  {
   "cell_type": "code",
   "execution_count": null,
   "metadata": {
    "collapsed": true
   },
   "outputs": [],
   "source": []
  }
 ],
 "metadata": {
  "kernelspec": {
   "display_name": "Python 2",
   "language": "python",
   "name": "python2"
  },
  "language_info": {
   "codemirror_mode": {
    "name": "ipython",
    "version": 2
   },
   "file_extension": ".py",
   "mimetype": "text/x-python",
   "name": "python",
   "nbconvert_exporter": "python",
   "pygments_lexer": "ipython2",
   "version": "2.7.13"
  }
 },
 "nbformat": 4,
 "nbformat_minor": 2
}
